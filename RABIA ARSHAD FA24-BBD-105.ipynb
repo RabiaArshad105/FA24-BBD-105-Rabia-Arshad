{
 "cells": [
  {
   "cell_type": "code",
   "execution_count": 26,
   "id": "5b75d808",
   "metadata": {},
   "outputs": [
    {
     "name": "stdout",
     "output_type": "stream",
     "text": [
      "Name: rabia arshad, Age: 18, City: New York\n"
     ]
    }
   ],
   "source": [
    "#question:1 # create a class\n",
    "class Person:\n",
    "    def __init__(self, name, age, city):\n",
    "        self.name = name  # attribute for name\n",
    "        self.age = age    # attribute for age\n",
    "        self.city = city  # attribute for city\n",
    "\n",
    "    def info (self):\n",
    "        # This method defines how the object will be represented when printed\n",
    "        return (f\"Name: {self.name}, Age: {self.age}, City: {self.city}\")\n",
    "\n",
    "# Example of creating a Person object\n",
    "person = Person(\"rabia arshad\", 18, \"New York\")\n",
    "print(person)\n"
   ]
  },
  {
   "cell_type": "code",
   "execution_count": 38,
   "id": "5be05d88",
   "metadata": {},
   "outputs": [
    {
     "name": "stdout",
     "output_type": "stream",
     "text": [
      "toyota corolla 2024\n"
     ]
    }
   ],
   "source": [
    "#question:2 #create a class car\n",
    "class car:\n",
    "    def __init__(self, make, model, year):\n",
    "        self.make = make# attribute for make\n",
    "        self.model = model  # attribute for model\n",
    "        self.year = year  # attribute for year\n",
    "\n",
    "    \n",
    "# Example of creating a car object\n",
    "car = car(\"toyota\", \"corolla\", 2024)\n",
    "print(car.make, car.model, car.year)"
   ]
  },
  {
   "cell_type": "code",
   "execution_count": 42,
   "id": "c0c6484b",
   "metadata": {},
   "outputs": [
    {
     "name": "stdout",
     "output_type": "stream",
     "text": [
      "Area of circle: 78.54\n",
      "Circumference of circle: 31.42\n"
     ]
    }
   ],
   "source": [
    "#question:3 #import math\n",
    "\n",
    "class Circle:\n",
    "    def __init__(self, radius):\n",
    "        self.radius = radius  # attribute for radius\n",
    "\n",
    "    def area(self):\n",
    "        # Method to calculate the area of the circle\n",
    "        return math.pi * self.radius ** 2\n",
    "\n",
    "    def circumference(self):\n",
    "        # Method to calculate the circumference of the circle\n",
    "        return 2 * math.pi * self.radius\n",
    "\n",
    "# Example of creating a Circle object\n",
    "circle1 = Circle(5)\n",
    "\n",
    "# Output the area and circumference\n",
    "print(f\"Area of circle: {circle1.area():.2f}\")\n",
    "print(f\"Circumference of circle: {circle1.circumference():.2f}\")\n"
   ]
  },
  {
   "cell_type": "code",
   "execution_count": 43,
   "id": "9a4dee02",
   "metadata": {},
   "outputs": [
    {
     "name": "stdout",
     "output_type": "stream",
     "text": [
      "Area of rectangle: 50\n",
      "Perimeter of rectangle: 30\n"
     ]
    }
   ],
   "source": [
    "#question:4 #create a class rectangle\n",
    "class Rectangle:\n",
    "    def __init__(self, length, width):\n",
    "        self.length = length  # attribute for length\n",
    "        self.width = width    # attribute for width\n",
    "\n",
    "    def area(self):\n",
    "        # Method to calculate the area of the rectangle\n",
    "        return self.length * self.width\n",
    "\n",
    "    def perimeter(self):\n",
    "        # Method to calculate the perimeter of the rectangle\n",
    "        return 2 * (self.length + self.width)\n",
    "\n",
    "# Example of creating a Rectangle object\n",
    "rectangle1 = Rectangle(10, 5)\n",
    "\n",
    "# Output the area and perimeter\n",
    "print(f\"Area of rectangle: {rectangle1.area()}\")\n",
    "print(f\"Perimeter of rectangle: {rectangle1.perimeter()}\")\n"
   ]
  },
  {
   "cell_type": "code",
   "execution_count": 44,
   "id": "ad5f0935",
   "metadata": {},
   "outputs": [
    {
     "name": "stdout",
     "output_type": "stream",
     "text": [
      "Average marks of Alice: 86.60\n"
     ]
    }
   ],
   "source": [
    "#question:5 #create a class student\n",
    "class Student:\n",
    "    def __init__(self, name, roll_number, marks):\n",
    "        self.name = name  # attribute for student's name\n",
    "        self.roll_number = roll_number  # attribute for student's roll number\n",
    "        self.marks = marks  # attribute for marks (list of marks)\n",
    "\n",
    "    def average_marks(self):\n",
    "        # Method to calculate the average marks\n",
    "        if len(self.marks) == 0:\n",
    "            return 0  # Return 0 if marks list is empty to avoid division by zero\n",
    "        return sum(self.marks) / len(self.marks)\n",
    "\n",
    "# Example of creating a Student object\n",
    "student1 = Student(\"Alice\", 101, [85, 90, 78, 92, 88])\n",
    "\n",
    "# Output the average marks\n",
    "print(f\"Average marks of {student1.name}: {student1.average_marks():.2f}\")\n"
   ]
  },
  {
   "cell_type": "code",
   "execution_count": 45,
   "id": "d9996d0e",
   "metadata": {},
   "outputs": [
    {
     "name": "stdout",
     "output_type": "stream",
     "text": [
      "'The Great Gatsby' by F. Scott Fitzgerald, Published in 1925\n"
     ]
    }
   ],
   "source": [
    "#question:6 # create a class book\n",
    "class Book:\n",
    "    def __init__(self, title, author, publication_year):\n",
    "        self.title = title  # attribute for book title\n",
    "        self.author = author  # attribute for book author\n",
    "        self.publication_year = publication_year  # attribute for publication year\n",
    "\n",
    "    def __str__(self):\n",
    "        # Method to represent the book object in a readable format\n",
    "        return f\"'{self.title}' by {self.author}, Published in {self.publication_year}\"\n",
    "\n",
    "# Example of creating a Book object\n",
    "book1 = Book(\"The Great Gatsby\", \"F. Scott Fitzgerald\", 1925)\n",
    "\n",
    "# Output the book details\n",
    "print(book1)\n"
   ]
  },
  {
   "cell_type": "code",
   "execution_count": 46,
   "id": "ced9dd40",
   "metadata": {},
   "outputs": [
    {
     "name": "stdout",
     "output_type": "stream",
     "text": [
      "Employee: John Doe, Designation: Software Engineer, Salary: $55000\n"
     ]
    }
   ],
   "source": [
    "#question no :7# create a class employees\n",
    "class Employee:\n",
    "    def __init__(self, name, salary, designation):\n",
    "        self.name = name  # attribute for employee name\n",
    "        self.salary = salary  # attribute for employee salary\n",
    "        self.designation = designation  # attribute for employee designation\n",
    "\n",
    "    def __str__(self):\n",
    "        # Method to represent the employee object in a readable format\n",
    "        return f\"Employee: {self.name}, Designation: {self.designation}, Salary: ${self.salary}\"\n",
    "\n",
    "# Example of creating an Employee object\n",
    "employee1 = Employee(\"John Doe\", 55000, \"Software Engineer\")\n",
    "\n",
    "# Output the employee details\n",
    "print(employee1)\n"
   ]
  },
  {
   "cell_type": "code",
   "execution_count": 47,
   "id": "cb7b13ba",
   "metadata": {},
   "outputs": [
    {
     "name": "stdout",
     "output_type": "stream",
     "text": [
      "Deposited $500. New balance: $1500\n",
      "Withdrew $300. New balance: $1200\n",
      "Invalid withdrawal amount or insufficient funds.\n"
     ]
    }
   ],
   "source": [
    "#question :8#create a class bank\n",
    "class Bank:\n",
    "    def __init__(self, name, account_number, balance=0):\n",
    "        self.name = name  # attribute for account holder's name\n",
    "        self.account_number = account_number  # attribute for account number\n",
    "        self.balance = balance  # attribute for account balance\n",
    "\n",
    "    def deposit(self, amount):\n",
    "        \"\"\"Method to deposit money into the account\"\"\"\n",
    "        if amount > 0:\n",
    "            self.balance += amount\n",
    "            print(f\"Deposited ${amount}. New balance: ${self.balance}\")\n",
    "        else:\n",
    "            print(\"Deposit amount must be positive.\")\n",
    "\n",
    "    def withdraw(self, amount):\n",
    "        \"\"\"Method to withdraw money from the account\"\"\"\n",
    "        if amount > 0 and amount <= self.balance:\n",
    "            self.balance -= amount\n",
    "            print(f\"Withdrew ${amount}. New balance: ${self.balance}\")\n",
    "        else:\n",
    "            print(\"Invalid withdrawal amount or insufficient funds.\")\n",
    "\n",
    "# Example of creating a Bank object and performing transactions\n",
    "account1 = Bank(\"Alice\", \"12345678\", 1000)\n",
    "account1.deposit(500)\n",
    "account1.withdraw(300)\n",
    "account1.withdraw(2000)  # Attempt to withdraw more than the balance\n"
   ]
  },
  {
   "cell_type": "code",
   "execution_count": null,
   "id": "539539a6",
   "metadata": {},
   "outputs": [],
   "source": []
  }
 ],
 "metadata": {
  "kernelspec": {
   "display_name": "Python 3 (ipykernel)",
   "language": "python",
   "name": "python3"
  },
  "language_info": {
   "codemirror_mode": {
    "name": "ipython",
    "version": 3
   },
   "file_extension": ".py",
   "mimetype": "text/x-python",
   "name": "python",
   "nbconvert_exporter": "python",
   "pygments_lexer": "ipython3",
   "version": "3.11.5"
  }
 },
 "nbformat": 4,
 "nbformat_minor": 5
}
